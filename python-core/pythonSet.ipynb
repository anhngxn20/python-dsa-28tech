{
 "cells": [
  {
   "metadata": {},
   "cell_type": "markdown",
   "source": [
    "#### Python Sets\n",
    "\n",
    "Python set is an unordered collection of multiple items having different datatypes. In Python, sets are mutable, unindexed and do not contain duplicates. The order of elements in a set is not preserved and can change.\n",
    "\n",
    "- Can store None values.\n",
    "- Implemented using hash tables internally.\n",
    "- Do not implement interfaces like Serializable or Cloneable.\n",
    "- Python sets are not inherently thread-safe; synchronization is needed if used across threads."
   ],
   "id": "c4fb11a00955887d"
  },
  {
   "metadata": {},
   "cell_type": "markdown",
   "source": "##### Creating a Set in Python",
   "id": "3c3fb2881fcfe826"
  },
  {
   "cell_type": "code",
   "id": "initial_id",
   "metadata": {
    "collapsed": true,
    "ExecuteTime": {
     "end_time": "2025-10-15T14:55:17.352273Z",
     "start_time": "2025-10-15T14:55:17.332658Z"
    }
   },
   "source": [
    "set1 = {1, 2, 3, 4}\n",
    "print(set1)"
   ],
   "outputs": [
    {
     "name": "stdout",
     "output_type": "stream",
     "text": [
      "{1, 2, 3, 4}\n"
     ]
    }
   ],
   "execution_count": 1
  },
  {
   "metadata": {
    "ExecuteTime": {
     "end_time": "2025-10-15T14:55:31.444175Z",
     "start_time": "2025-10-15T14:55:31.430602Z"
    }
   },
   "cell_type": "code",
   "source": [
    "set1 = set()\n",
    "print(set1)\n",
    "\n",
    "set1 = set(\"GeeksForGeeks\")\n",
    "print(set1)\n",
    "\n",
    "# Creating a Set with the use of a List\n",
    "set1 = set([\"Geeks\", \"For\", \"Geeks\"])\n",
    "print(set1)\n",
    "\n",
    "# Creating a Set with the use of a tuple\n",
    "tup = (\"Geeks\", \"for\", \"Geeks\")\n",
    "print(set(tup))\n",
    "\n",
    "# Creating a Set with the use of a dictionary\n",
    "d = {\"Geeks\": 1, \"for\": 2, \"Geeks\": 3}\n",
    "print(set(d))"
   ],
   "id": "4b703696be34ac72",
   "outputs": [
    {
     "name": "stdout",
     "output_type": "stream",
     "text": [
      "set()\n",
      "{'k', 'G', 'F', 'o', 'r', 's', 'e'}\n",
      "{'For', 'Geeks'}\n",
      "{'for', 'Geeks'}\n",
      "{'for', 'Geeks'}\n"
     ]
    }
   ],
   "execution_count": 2
  },
  {
   "metadata": {},
   "cell_type": "markdown",
   "source": [
    "##### Unordered, Unindexed and Mutability\n",
    "In set, the order of elements is not guaranteed to be the same as the order in which they were added. The output could vary each time we run the program. Also the duplicate items entered are removed by itself. <br>\n",
    "We can add elements to the set using add(). We can remove elements from the set using remove(). The set changes after these operations, demonstrating its mutability. However, we cannot changes its items directly."
   ],
   "id": "5c402ef41a1af1b8"
  },
  {
   "metadata": {},
   "cell_type": "code",
   "outputs": [],
   "execution_count": null,
   "source": [
    "set1 = {3, 1, 4, 1, 5, 9, 2}\n",
    "\n",
    "print(set1)  # Output may vary: {1, 2, 3, 4, 5, 9}\n",
    "\n",
    "# Unindexed: Accessing elements by index is not possible\n",
    "# This will raise a TypeError\n",
    "try:\n",
    "    print(set1[0])\n",
    "except TypeError as e:\n",
    "    print(e)"
   ],
   "id": "4102c363bf8e79e"
  }
 ],
 "metadata": {
  "kernelspec": {
   "display_name": "Python 3",
   "language": "python",
   "name": "python3"
  },
  "language_info": {
   "codemirror_mode": {
    "name": "ipython",
    "version": 2
   },
   "file_extension": ".py",
   "mimetype": "text/x-python",
   "name": "python",
   "nbconvert_exporter": "python",
   "pygments_lexer": "ipython2",
   "version": "2.7.6"
  }
 },
 "nbformat": 4,
 "nbformat_minor": 5
}
