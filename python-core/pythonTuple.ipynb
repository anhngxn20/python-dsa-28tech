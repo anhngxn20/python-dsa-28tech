{
 "cells": [
  {
   "metadata": {},
   "cell_type": "markdown",
   "source": "#### Tuple is same as List but immutable",
   "id": "6e92a308acbf401f"
  },
  {
   "metadata": {},
   "cell_type": "markdown",
   "source": "##### Khởi tạo tuple",
   "id": "e1e9e8753e4364fb"
  },
  {
   "cell_type": "code",
   "id": "initial_id",
   "metadata": {
    "collapsed": true,
    "ExecuteTime": {
     "end_time": "2025-10-14T06:19:56.550276Z",
     "start_time": "2025-10-14T06:19:56.540649Z"
    }
   },
   "source": [
    "t = (1, 2, 3, 4, 5) # -> tuple\n",
    "t1 = (1, 'john', 1.231) # -> also a tuple\n",
    "t2 = tuple([1, 2, 3, 4, 5])\n",
    "t3 = ()\n",
    "t4 = (3,)\n",
    "t5 = 1,2,3,4,5"
   ],
   "outputs": [],
   "execution_count": 4
  },
  {
   "metadata": {},
   "cell_type": "markdown",
   "source": "##### Tuple Comprehension",
   "id": "2a72db6eaf408cc7"
  },
  {
   "metadata": {
    "ExecuteTime": {
     "end_time": "2025-10-14T06:17:03.473952Z",
     "start_time": "2025-10-14T06:17:03.466810Z"
    }
   },
   "cell_type": "code",
   "source": [
    "t6 = (*(x * 2 for x in range(5)),)\n",
    "print(t6)\n",
    "\n",
    "t7 = (*(x for x in range(5)), *(x * 2 for x in range(5)))\n",
    "print(t7)\n",
    "# => Có thể khởi tạo nhiều tuple trong 1 tuple\n",
    "\n",
    "t8 = tuple(x for x in range(5))\n",
    "print(t8)\n",
    "\n",
    "t9 = tuple(x.lower() for x in 'jOHn')\n",
    "print(t9)"
   ],
   "id": "271ecfc8a4c0bb59",
   "outputs": [
    {
     "name": "stdout",
     "output_type": "stream",
     "text": [
      "(0, 2, 4, 6, 8)\n",
      "(0, 1, 2, 3, 4, 0, 2, 4, 6, 8)\n",
      "(0, 1, 2, 3, 4)\n",
      "('j', 'o', 'h', 'n')\n"
     ]
    }
   ],
   "execution_count": 2
  },
  {
   "metadata": {},
   "cell_type": "markdown",
   "source": "##### Indexing & Slicing",
   "id": "11c25687f3d4ac5c"
  },
  {
   "metadata": {},
   "cell_type": "markdown",
   "source": "###### Tuple is read-only",
   "id": "a0b88b2d0fcdcc1a"
  },
  {
   "metadata": {
    "ExecuteTime": {
     "end_time": "2025-10-14T06:20:18.337221Z",
     "start_time": "2025-10-14T06:20:18.326991Z"
    }
   },
   "cell_type": "code",
   "source": "t = (1, 2, 3, 4, 5)",
   "id": "684235792bf1d1b2",
   "outputs": [
    {
     "data": {
      "text/plain": [
       "2"
      ]
     },
     "execution_count": 6,
     "metadata": {},
     "output_type": "execute_result"
    }
   ],
   "execution_count": 6
  },
  {
   "metadata": {
    "ExecuteTime": {
     "end_time": "2025-10-14T06:20:43.855818Z",
     "start_time": "2025-10-14T06:20:43.841294Z"
    }
   },
   "cell_type": "code",
   "source": "t[1]",
   "id": "d070a2e13832e604",
   "outputs": [
    {
     "data": {
      "text/plain": [
       "2"
      ]
     },
     "execution_count": 7,
     "metadata": {},
     "output_type": "execute_result"
    }
   ],
   "execution_count": 7
  },
  {
   "metadata": {
    "ExecuteTime": {
     "end_time": "2025-10-14T06:20:54.839685Z",
     "start_time": "2025-10-14T06:20:54.824780Z"
    }
   },
   "cell_type": "code",
   "source": "t[1:]",
   "id": "6520ac578f887c5f",
   "outputs": [
    {
     "data": {
      "text/plain": [
       "(2, 3, 4, 5)"
      ]
     },
     "execution_count": 8,
     "metadata": {},
     "output_type": "execute_result"
    }
   ],
   "execution_count": 8
  },
  {
   "metadata": {
    "ExecuteTime": {
     "end_time": "2025-10-14T06:21:11.760738Z",
     "start_time": "2025-10-14T06:21:11.745898Z"
    }
   },
   "cell_type": "code",
   "source": "t[1:4]",
   "id": "c6ce34c137401972",
   "outputs": [
    {
     "data": {
      "text/plain": [
       "(2, 3, 4)"
      ]
     },
     "execution_count": 9,
     "metadata": {},
     "output_type": "execute_result"
    }
   ],
   "execution_count": 9
  },
  {
   "metadata": {},
   "cell_type": "markdown",
   "source": "##### Packing & Unpacking",
   "id": "f9f526ac54c6867c"
  },
  {
   "metadata": {
    "ExecuteTime": {
     "end_time": "2025-10-14T06:24:27.716517Z",
     "start_time": "2025-10-14T06:24:27.711592Z"
    }
   },
   "cell_type": "code",
   "source": [
    "t1 = (1, 2, 3)\n",
    "t2 = (4,5,6)"
   ],
   "id": "d6b1b471b7b24b77",
   "outputs": [],
   "execution_count": 11
  },
  {
   "metadata": {
    "ExecuteTime": {
     "end_time": "2025-10-14T06:24:28.615784Z",
     "start_time": "2025-10-14T06:24:28.610784Z"
    }
   },
   "cell_type": "code",
   "source": [
    "t3 = t1 + t2\n",
    "t3"
   ],
   "id": "982ca31c239b5203",
   "outputs": [
    {
     "data": {
      "text/plain": [
       "(1, 2, 3, 4, 5, 6)"
      ]
     },
     "execution_count": 12,
     "metadata": {},
     "output_type": "execute_result"
    }
   ],
   "execution_count": 12
  },
  {
   "metadata": {
    "ExecuteTime": {
     "end_time": "2025-10-14T06:24:57.490385Z",
     "start_time": "2025-10-14T06:24:57.475387Z"
    }
   },
   "cell_type": "code",
   "source": [
    "t3 = t1 * 3\n",
    "t3"
   ],
   "id": "73b87f9f9c28fe5f",
   "outputs": [
    {
     "data": {
      "text/plain": [
       "(1, 2, 3, 1, 2, 3, 1, 2, 3)"
      ]
     },
     "execution_count": 13,
     "metadata": {},
     "output_type": "execute_result"
    }
   ],
   "execution_count": 13
  },
  {
   "metadata": {},
   "cell_type": "markdown",
   "source": [
    "##### Tuple Unpacking with Asterisk (*)\n",
    "In Python, the \" * \" operator can be used in tuple unpacking to grab multiple items into a list. This is useful when you want to extract just a few specific elements and collect the rest together."
   ],
   "id": "793358871140d539"
  },
  {
   "metadata": {
    "ExecuteTime": {
     "end_time": "2025-10-15T14:52:48.336286Z",
     "start_time": "2025-10-15T14:52:48.325112Z"
    }
   },
   "cell_type": "code",
   "source": [
    "tup = (1, 2, 3, 4, 5)\n",
    "\n",
    "a, *b, c = tup\n",
    "\n",
    "print(a)\n",
    "print(b)\n",
    "print(c)"
   ],
   "id": "9f1bb493c669eddb",
   "outputs": [
    {
     "name": "stdout",
     "output_type": "stream",
     "text": [
      "1\n",
      "[2, 3, 4]\n",
      "5\n"
     ]
    }
   ],
   "execution_count": 1
  },
  {
   "metadata": {},
   "cell_type": "code",
   "outputs": [],
   "execution_count": null,
   "source": "",
   "id": "b2c1fecdedbbc141"
  }
 ],
 "metadata": {
  "kernelspec": {
   "display_name": "Python 3",
   "language": "python",
   "name": "python3"
  },
  "language_info": {
   "codemirror_mode": {
    "name": "ipython",
    "version": 2
   },
   "file_extension": ".py",
   "mimetype": "text/x-python",
   "name": "python",
   "nbconvert_exporter": "python",
   "pygments_lexer": "ipython2",
   "version": "2.7.6"
  }
 },
 "nbformat": 4,
 "nbformat_minor": 5
}
